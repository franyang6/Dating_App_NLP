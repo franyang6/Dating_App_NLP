{
 "cells": [
  {
   "cell_type": "markdown",
   "id": "39eaaab3",
   "metadata": {},
   "source": [
    "## 8. Model validations "
   ]
  },
  {
   "cell_type": "code",
   "execution_count": 6,
   "id": "e3d76354",
   "metadata": {},
   "outputs": [],
   "source": [
    "import pandas as pd\n",
    "import numpy as np\n",
    "import matplotlib as mpl\n",
    "import matplotlib.pyplot as plt\n",
    "import seaborn as sns\n",
    "from sklearn.model_selection import train_test_split, cross_val_score\n",
    "from bs4 import BeautifulSoup\n",
    "import re\n",
    "import nltk\n",
    "from nltk.corpus import stopwords \n",
    "from sklearn.feature_extraction.text import CountVectorizer, TfidfTransformer\n",
    "from sklearn.model_selection import train_test_split\n",
    "from sklearn.linear_model import SGDClassifier\n",
    "from sklearn.ensemble import RandomForestClassifier\n",
    "from sklearn.metrics import accuracy_score, precision_recall_fscore_support, confusion_matrix, classification_report\n",
    "from sklearn.naive_bayes import MultinomialNB\n",
    "from sklearn.linear_model import LogisticRegression\n",
    "from sklearn.model_selection import GridSearchCV, RandomizedSearchCV\n",
    "from utils import *\n",
    "from cf_matrix import *\n",
    "import seaborn as sns\n",
    "from sklearn.pipeline import Pipeline\n",
    "%matplotlib inline\n",
    "plt.style.use('seaborn-white')\n",
    "import warnings\n",
    "warnings.filterwarnings(\"ignore\")"
   ]
  },
  {
   "cell_type": "code",
   "execution_count": 2,
   "id": "78d9a987",
   "metadata": {},
   "outputs": [],
   "source": [
    "df = pd.read_csv('review_stem_lem.csv')"
   ]
  },
  {
   "cell_type": "markdown",
   "id": "0df75781",
   "metadata": {},
   "source": [
    "### Define X and y"
   ]
  },
  {
   "cell_type": "code",
   "execution_count": 3,
   "id": "4516e33e",
   "metadata": {},
   "outputs": [],
   "source": [
    "X = df['review_lem']\n",
    "y = df['Rating']"
   ]
  },
  {
   "cell_type": "code",
   "execution_count": 4,
   "id": "e7809797",
   "metadata": {},
   "outputs": [],
   "source": [
    "X = X.values.astype('U')"
   ]
  },
  {
   "cell_type": "code",
   "execution_count": 5,
   "id": "855a3bdb",
   "metadata": {},
   "outputs": [],
   "source": [
    "X_train, X_test, y_train, y_test = train_test_split(X, y, \n",
    "                                                    test_size=0.25, stratify=y, random_state = 42)\n",
    "# Important to use the ‘stratify’ parameter, which makes a split with equal proportions of each rating(class)."
   ]
  },
  {
   "cell_type": "markdown",
   "id": "27907f4b",
   "metadata": {},
   "source": [
    "### Multinomial Naive Bayes Classifier"
   ]
  },
  {
   "cell_type": "code",
   "execution_count": 33,
   "id": "f3e72482",
   "metadata": {},
   "outputs": [],
   "source": [
    "# Considering unigrams and bigrams\n",
    "nb = Pipeline([('vectorize', CountVectorizer(ngram_range=(1, 2))),\n",
    "               ('tfidf', TfidfTransformer()),\n",
    "               ('clf', MultinomialNB()),\n",
    "              ])"
   ]
  },
  {
   "cell_type": "code",
   "execution_count": 35,
   "id": "e28c713b",
   "metadata": {},
   "outputs": [
    {
     "name": "stdout",
     "output_type": "stream",
     "text": [
      "Mean cross-validation accuracy: 0.6299\n"
     ]
    }
   ],
   "source": [
    "scores = cross_val_score(nb, X_train, y_train)\n",
    "print(\"Mean cross-validation accuracy: {:.4f}\".format(np.mean(scores)))"
   ]
  },
  {
   "cell_type": "code",
   "execution_count": 36,
   "id": "f2471528",
   "metadata": {},
   "outputs": [
    {
     "name": "stdout",
     "output_type": "stream",
     "text": [
      "0.6324795941329296\n",
      "[[35313     0     1     3   881]\n",
      " [ 7723     0     1     3   432]\n",
      " [ 6655     0     9    54  2027]\n",
      " [ 4983     0     1   181  8079]\n",
      " [ 5040     0     4    44 26332]]\n",
      "              precision    recall  f1-score   support\n",
      "\n",
      "           1       0.59      0.98      0.74     36198\n",
      "           2       0.00      0.00      0.00      8159\n",
      "           3       0.56      0.00      0.00      8745\n",
      "           4       0.64      0.01      0.03     13244\n",
      "           5       0.70      0.84      0.76     31420\n",
      "\n",
      "    accuracy                           0.63     97766\n",
      "   macro avg       0.50      0.37      0.31     97766\n",
      "weighted avg       0.58      0.63      0.52     97766\n",
      "\n"
     ]
    }
   ],
   "source": [
    "nb.fit(X_train, y_train)\n",
    "y_pred_nb = nb.predict(X_test)\n",
    "print(accuracy_score(y_test, y_pred_nb))\n",
    "print(confusion_matrix(y_test, y_pred_nb))\n",
    "print(classification_report(y_test, y_pred_nb))"
   ]
  },
  {
   "cell_type": "markdown",
   "id": "ca75b327",
   "metadata": {},
   "source": [
    "### Linear Support Vector Machine"
   ]
  },
  {
   "cell_type": "code",
   "execution_count": 31,
   "id": "5b4a2fa0",
   "metadata": {},
   "outputs": [],
   "source": [
    "sgd = Pipeline([('vect', CountVectorizer(ngram_range=(1, 2))),\n",
    "                ('tfidf', TfidfTransformer()),\n",
    "                ('clf', SGDClassifier()),\n",
    "               ])"
   ]
  },
  {
   "cell_type": "code",
   "execution_count": 52,
   "id": "d1166245",
   "metadata": {},
   "outputs": [
    {
     "name": "stdout",
     "output_type": "stream",
     "text": [
      "Mean cross-validation accuracy: 0.6444\n"
     ]
    }
   ],
   "source": [
    "scores = cross_val_score(sgd, X_train, y_train)\n",
    "print(\"Mean cross-validation accuracy: {:.4f}\".format(np.mean(scores)))"
   ]
  },
  {
   "cell_type": "code",
   "execution_count": 32,
   "id": "da36b3ba",
   "metadata": {},
   "outputs": [
    {
     "name": "stdout",
     "output_type": "stream",
     "text": [
      "0.6462369330851216\n",
      "[[34326    45   112   194  1521]\n",
      " [ 7194    44   102   115   704]\n",
      " [ 5396    55   326   530  2438]\n",
      " [ 3261    52   266   953  8712]\n",
      " [ 3302    11   134   442 27531]]\n",
      "              precision    recall  f1-score   support\n",
      "\n",
      "           1       0.64      0.95      0.77     36198\n",
      "           2       0.21      0.01      0.01      8159\n",
      "           3       0.35      0.04      0.07      8745\n",
      "           4       0.43      0.07      0.12     13244\n",
      "           5       0.67      0.88      0.76     31420\n",
      "\n",
      "    accuracy                           0.65     97766\n",
      "   macro avg       0.46      0.39      0.35     97766\n",
      "weighted avg       0.56      0.65      0.55     97766\n",
      "\n"
     ]
    }
   ],
   "source": [
    "sgd.fit(X_train, y_train)\n",
    "y_pred_sgd = sgd.predict(X_test)\n",
    "print(accuracy_score(y_test, y_pred_sgd))\n",
    "print(confusion_matrix(y_test, y_pred_sgd))\n",
    "print(classification_report(y_test, y_pred_sgd))"
   ]
  },
  {
   "cell_type": "markdown",
   "id": "7aba09bd",
   "metadata": {},
   "source": [
    "### Logistic Regression Classifier"
   ]
  },
  {
   "cell_type": "code",
   "execution_count": 33,
   "id": "3e3b2310",
   "metadata": {},
   "outputs": [],
   "source": [
    "logreg = Pipeline([('vect', CountVectorizer(ngram_range=(1, 2))),\n",
    "                ('tfidf', TfidfTransformer()),\n",
    "                ('clf', RandomForestClassifier(max_iter=500)),\n",
    "               ])"
   ]
  },
  {
   "cell_type": "code",
   "execution_count": 53,
   "id": "0bce4abb",
   "metadata": {},
   "outputs": [
    {
     "name": "stdout",
     "output_type": "stream",
     "text": [
      "Mean cross-validation accuracy: 0.6626\n"
     ]
    }
   ],
   "source": [
    "scores = cross_val_score(logreg, X_train, y_train)\n",
    "print(\"Mean cross-validation accuracy: {:.4f}\".format(np.mean(scores)))"
   ]
  },
  {
   "cell_type": "code",
   "execution_count": 34,
   "id": "86b366d5",
   "metadata": {
    "scrolled": true
   },
   "outputs": [
    {
     "name": "stdout",
     "output_type": "stream",
     "text": [
      "0.663298079086799\n",
      "[[33256   514   565   327  1536]\n",
      " [ 6227   479   574   317   562]\n",
      " [ 3976   414  1199  1247  1909]\n",
      " [ 2062   169   777  2789  7447]\n",
      " [ 2180    36   329  1750 27125]]\n",
      "              precision    recall  f1-score   support\n",
      "\n",
      "           1       0.70      0.92      0.79     36198\n",
      "           2       0.30      0.06      0.10      8159\n",
      "           3       0.35      0.14      0.20      8745\n",
      "           4       0.43      0.21      0.28     13244\n",
      "           5       0.70      0.86      0.78     31420\n",
      "\n",
      "    accuracy                           0.66     97766\n",
      "   macro avg       0.50      0.44      0.43     97766\n",
      "weighted avg       0.60      0.66      0.61     97766\n",
      "\n"
     ]
    }
   ],
   "source": [
    "logreg.fit(X_train, y_train)\n",
    "y_pred_log = logreg.predict(X_test)\n",
    "print(accuracy_score(y_test, y_pred_log))\n",
    "print(confusion_matrix(y_test, y_pred_log))\n",
    "print(classification_report(y_test, y_pred_log))"
   ]
  },
  {
   "cell_type": "markdown",
   "id": "f0c5c883",
   "metadata": {},
   "source": [
    "### Hyperparameter Tuning"
   ]
  },
  {
   "cell_type": "code",
   "execution_count": 38,
   "id": "77b49ee1",
   "metadata": {},
   "outputs": [
    {
     "name": "stdout",
     "output_type": "stream",
     "text": [
      "Fitting 3 folds for each of 8 candidates, totalling 24 fits\n"
     ]
    },
    {
     "name": "stderr",
     "output_type": "stream",
     "text": [
      "/Users/FrancesY/opt/anaconda3/lib/python3.9/site-packages/sklearn/linear_model/_logistic.py:814: ConvergenceWarning: lbfgs failed to converge (status=1):\n",
      "STOP: TOTAL NO. of ITERATIONS REACHED LIMIT.\n",
      "\n",
      "Increase the number of iterations (max_iter) or scale the data as shown in:\n",
      "    https://scikit-learn.org/stable/modules/preprocessing.html\n",
      "Please also refer to the documentation for alternative solver options:\n",
      "    https://scikit-learn.org/stable/modules/linear_model.html#logistic-regression\n",
      "  n_iter_i = _check_optimize_result(\n",
      "/Users/FrancesY/opt/anaconda3/lib/python3.9/site-packages/sklearn/linear_model/_logistic.py:814: ConvergenceWarning: lbfgs failed to converge (status=1):\n",
      "STOP: TOTAL NO. of ITERATIONS REACHED LIMIT.\n",
      "\n",
      "Increase the number of iterations (max_iter) or scale the data as shown in:\n",
      "    https://scikit-learn.org/stable/modules/preprocessing.html\n",
      "Please also refer to the documentation for alternative solver options:\n",
      "    https://scikit-learn.org/stable/modules/linear_model.html#logistic-regression\n",
      "  n_iter_i = _check_optimize_result(\n",
      "/Users/FrancesY/opt/anaconda3/lib/python3.9/site-packages/sklearn/linear_model/_logistic.py:814: ConvergenceWarning: lbfgs failed to converge (status=1):\n",
      "STOP: TOTAL NO. of ITERATIONS REACHED LIMIT.\n",
      "\n",
      "Increase the number of iterations (max_iter) or scale the data as shown in:\n",
      "    https://scikit-learn.org/stable/modules/preprocessing.html\n",
      "Please also refer to the documentation for alternative solver options:\n",
      "    https://scikit-learn.org/stable/modules/linear_model.html#logistic-regression\n",
      "  n_iter_i = _check_optimize_result(\n"
     ]
    },
    {
     "name": "stdout",
     "output_type": "stream",
     "text": [
      "Pipeline(steps=[('vect', CountVectorizer(ngram_range=(1, 2))),\n",
      "                ('tfidf', TfidfTransformer()),\n",
      "                ('clf', LogisticRegression(C=1, max_iter=500, solver='sag'))])\n",
      "0.6614967091533462\n",
      "[[33250   513   569   326  1540]\n",
      " [ 6225   481   573   317   563]\n",
      " [ 3973   412  1205  1246  1909]\n",
      " [ 2069   168   777  2796  7434]\n",
      " [ 2182    36   327  1764 27111]]\n",
      "              precision    recall  f1-score   support\n",
      "\n",
      "           1       0.70      0.92      0.79     36198\n",
      "           2       0.30      0.06      0.10      8159\n",
      "           3       0.35      0.14      0.20      8745\n",
      "           4       0.43      0.21      0.28     13244\n",
      "           5       0.70      0.86      0.77     31420\n",
      "\n",
      "    accuracy                           0.66     97766\n",
      "   macro avg       0.50      0.44      0.43     97766\n",
      "weighted avg       0.60      0.66      0.61     97766\n",
      "\n",
      "0.6632469365628132\n"
     ]
    }
   ],
   "source": [
    "grid=[{'clf__solver': ['lbfgs', 'sag'],\n",
    "       'clf__C': [0.1, 1],\n",
    "       'clf__penalty': ['None','l2']}]\n",
    "      \n",
    "lr = RandomizedSearchCV(logreg, param_distributions = grid, cv = 3, scoring='accuracy', verbose = 1, n_jobs = -1)\n",
    "best_model = lr.fit(X_train, y_train)\n",
    "\n",
    "print(best_model.best_estimator_)\n",
    "print(best_model.best_score_)\n",
    "\n",
    "y_pred_grid = best_model.predict(X_test)\n",
    "print(confusion_matrix(y_test, y_pred_grid))\n",
    "print(classification_report(y_test, y_pred_grid))\n",
    "print(accuracy_score(y_test, y_pred_grid))"
   ]
  },
  {
   "cell_type": "code",
   "execution_count": 39,
   "id": "ede07b27",
   "metadata": {},
   "outputs": [],
   "source": [
    "cf_matrix = confusion_matrix(y_test, y_pred_grid)"
   ]
  },
  {
   "cell_type": "code",
   "execution_count": 40,
   "id": "d8a0d764",
   "metadata": {},
   "outputs": [
    {
     "data": {
      "text/plain": [
       "[Text(0, 0.5, '1'),\n",
       " Text(0, 1.5, '2'),\n",
       " Text(0, 2.5, '3'),\n",
       " Text(0, 3.5, '4'),\n",
       " Text(0, 4.5, '5')]"
      ]
     },
     "execution_count": 40,
     "metadata": {},
     "output_type": "execute_result"
    },
    {
     "data": {
      "image/png": "[encoded data removed]",
      "text/plain": [
       "<Figure size 640x480 with 2 Axes>"
      ]
     },
     "metadata": {},
     "output_type": "display_data"
    }
   ],
   "source": [
    "g = sns.heatmap(cf_matrix/np.sum(cf_matrix), annot=True, \n",
    "            fmt='.2%', cmap='Blues')\n",
    "g.set_title('Confusion Matrix')\n",
    "g.set_xlabel('Predicted label')\n",
    "g.set_ylabel('True label')\n",
    "g.set_xticklabels(['1','2','3','4','5'])\n",
    "g.set_yticklabels(['1','2','3','4','5'])"
   ]
  }
 ],
 "metadata": {
  "kernelspec": {
   "display_name": "Python 3 (ipykernel)",
   "language": "python",
   "name": "python3"
  },
  "language_info": {
   "codemirror_mode": {
    "name": "ipython",
    "version": 3
   },
   "file_extension": ".py",
   "mimetype": "text/x-python",
   "name": "python",
   "nbconvert_exporter": "python",
   "pygments_lexer": "ipython3",
   "version": "3.9.13"
  }
 },
 "nbformat": 4,
 "nbformat_minor": 5
}
